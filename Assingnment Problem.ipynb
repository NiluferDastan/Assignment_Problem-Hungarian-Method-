{
 "cells": [
  {
   "cell_type": "markdown",
   "id": "aadd909a",
   "metadata": {},
   "source": [
    "# Assignment Problem (Atama Problemi)"
   ]
  },
  {
   "cell_type": "markdown",
   "id": "f34efd36",
   "metadata": {},
   "source": [
    "- Atama problemi ulaştırma modelinin özel bir halidir\n",
    "- Ulaştırma probleminde arz merkezlerinin ve talep merkezlerinin farklı miktarlarda arz ve\n",
    "talebi olabilir"
   ]
  },
  {
   "cell_type": "markdown",
   "id": "31fa29f8",
   "metadata": {},
   "source": [
    "|       |    M1   |   M2   |   Arz  |\n",
    "| :---: | :-----: | :----: | :----: |\n",
    "|   F1  |    10   |   20   |   100  |\n",
    "|   F2  |    15   |   25   |   100  |\n",
    "| Talep |    50   |   50   |        |"
   ]
  },
  {
   "cell_type": "markdown",
   "id": "0f56f202",
   "metadata": {},
   "source": [
    "- Atama Probleminde ise $n$ tane çalışanın (worker) $n$ tane göreve (Task) atanmasıyla ilgiliyiz:"
   ]
  },
  {
   "cell_type": "markdown",
   "id": "9abfea67",
   "metadata": {},
   "source": [
    "|         |     Task1     |      Task2    |      Task3      |\n",
    "| :--:    | :-----------: | :-----------: | :-------------: |\n",
    "| Worker1 |       10      |        12     |        13       |\n",
    "| Worker2 |       11      |        11     |        14       |\n",
    "| Worker3 |        9      |         8     |        15       |"
   ]
  },
  {
   "cell_type": "markdown",
   "id": "f813bcdc",
   "metadata": {},
   "source": [
    "- Ulaştırma tablosundan farklı olarak tüm arz edenlerin (çalışanların) arz ettiği emek miktarı 1\n",
    "- Ulaştırma tablosundan farklı olarak tüm talep edenlerin (görevlerin) talep ettiği miktarı 1\n",
    "- Demek ki atama tablosu arz ve taleplerin 1 olduğu özel bir ulaştırma tablosudur."
   ]
  },
  {
   "cell_type": "markdown",
   "id": "eaf454ea",
   "metadata": {},
   "source": [
    "## 1.1 Macar Yöntemi (The Hungarian Method)"
   ]
  },
  {
   "cell_type": "markdown",
   "id": "ed0675d3",
   "metadata": {},
   "source": [
    "### 1.1.1 Örnek"
   ]
  },
  {
   "cell_type": "markdown",
   "id": "0a1205dc",
   "metadata": {},
   "source": [
    "|         |     Task1     |      Task2    |      Task3      |\n",
    "| :--:    | :-----------: | :-----------: | :-------------: |\n",
    "| Worker1 |       15      |        10     |         9       |\n",
    "| Worker2 |        9      |        15     |        10       |\n",
    "| Worker3 |       10      |        12     |         8       |"
   ]
  },
  {
   "cell_type": "markdown",
   "id": "a302c1fc",
   "metadata": {},
   "source": [
    "- Çalışan 1, 3. işi 9 Pb için yapıyor.\n",
    "- Kim hangi işi yapsın ki,\n",
    "- herkes yalnızca bir iş yapsın\n",
    "- her iş yalnızca bir kişi tarafından yapılsın\n",
    "- ve **toplam maliyet en küçük** olsun."
   ]
  },
  {
   "cell_type": "markdown",
   "id": "eba70f57",
   "metadata": {},
   "source": [
    "|         |     Task1     |      Task2    |      Task3      |\n",
    "| :--:    | :-----------: | :-----------: | :-------------: |\n",
    "| Worker1 |   15(x11)     |    10(x12)    |     9(x13)      |\n",
    "| Worker2 |        9      |        15     |        10       |\n",
    "| Worker3 |       10      |        12     |     8(x33)      |"
   ]
  },
  {
   "cell_type": "markdown",
   "id": "56c1f452",
   "metadata": {},
   "source": [
    "- $x_{ij}$ eğer $i$. çalışan $j$. işi yaparsa 1 değerini alır, aksi takdirde sıfır değerini alır"
   ]
  },
  {
   "cell_type": "markdown",
   "id": "fa59ac38",
   "metadata": {},
   "source": [
    "$$\n",
    "\\begin{aligned}\n",
    "\\min z = & 15x_{11} + 10x_{12} + 9x_{13} + 9x_{21} + 15x_{22} + 10x_{23} + 10x_{31} + 12x_{32} + 8x_{33} \\\\\n",
    "\\text{Kısıtlar:} & \\\\\n",
    "& x_{11} + x_{12} + x_{13} = 1 \\\\\n",
    "& x_{21} + x_{22} + x_{23} = 1 \\\\\n",
    "& x_{31} + x_{32} + x_{33} = 1 \\\\\n",
    "& x_{11} + x_{21} + x_{31} = 1 \\\\\n",
    "& x_{12} + x_{22} + x_{32} = 1 \\\\\n",
    "& x_{13} + x_{23} + x_{33} = 1 \\\\\n",
    "& x_{ij} \\in \\{0,1\\} \\\\\n",
    "& i = 1,2,3 \\\\\n",
    "& j = 1,2,3\n",
    "\\end{aligned}\n",
    "$$"
   ]
  },
  {
   "cell_type": "markdown",
   "id": "e20a530a",
   "metadata": {},
   "source": [
    "- Macar Yöntemi:\n",
    "- Aşama 1: Orijinal tablodaki tüm satırların minimum maliyetleri bul ve satırlardaki tüm\n",
    "elemanları bu minimumdan çıkar:"
   ]
  },
  {
   "cell_type": "markdown",
   "id": "7fbb0d36",
   "metadata": {},
   "source": [
    "|         |     Task1     |      Task2    |      Task3      |\n",
    "| :--:    | :-----------: | :-----------: | :-------------: |\n",
    "| Worker1 |       15      |        10     |         9       |\n",
    "| Worker2 |        9      |        15     |        10       |\n",
    "| Worker3 |       10      |        12     |         8       |"
   ]
  },
  {
   "cell_type": "markdown",
   "id": "6e723336",
   "metadata": {},
   "source": [
    "|         |     Task1     |      Task2    |      Task3      |  Minimum  |\n",
    "| :--:    | :-----------: | :-----------: | :-------------: | :-------: |\n",
    "| Worker1 |       15      |        10     |         9       |     9     |\n",
    "| Worker2 |        9      |        15     |        10       |     9     |\n",
    "| Worker3 |       10      |        12     |         8       |     8     |"
   ]
  },
  {
   "cell_type": "markdown",
   "id": "2d874123",
   "metadata": {},
   "source": [
    "- Tüm satır elemanları karşılık gelen minimum değerden çıkartılırsa indirgenmiş matris elde\n",
    "edilir:"
   ]
  },
  {
   "cell_type": "markdown",
   "id": "32b8917c",
   "metadata": {},
   "source": [
    "|         |     Task1     |      Task2   |      Task3      |\n",
    "| :--:    | :-----------: | :----------: | :-------------: |\n",
    "| Worker1 |        6      |        1     |         0       |\n",
    "| Worker2 |        0      |        6     |         1       |\n",
    "| Worker3 |        2      |        4     |         0       |"
   ]
  },
  {
   "cell_type": "markdown",
   "id": "565768dc",
   "metadata": {},
   "source": [
    "- Bu kez de, eldeki indirgenmiş matrisin sütunlarına ait minimumları bul, ve herbir sütun\n",
    "elemanını karşılık gelen sütun minimumundan çıkar."
   ]
  },
  {
   "cell_type": "markdown",
   "id": "85223604",
   "metadata": {},
   "source": [
    "|         |     Task1     |      Task2   |      Task3      |\n",
    "| :--:    | :-----------: | :----------: | :-------------: |\n",
    "| Worker1 |        6      |        1     |         0       |\n",
    "| Worker2 |        0      |        6     |         1       |\n",
    "| Worker3 |        2      |        4     |         0       |\n",
    "| Minimum |        0      |        1     |         0       | "
   ]
  },
  {
   "cell_type": "markdown",
   "id": "6ac38c94",
   "metadata": {},
   "source": [
    "|         |     Task1     |      Task2   |      Task3      |\n",
    "| :--:    | :-----------: | :----------: | :-------------: |\n",
    "| Worker1 |        6      |        0     |         0       |\n",
    "| Worker2 |        0      |        5     |         1       |\n",
    "| Worker3 |        2      |        3     |         0       |"
   ]
  },
  {
   "cell_type": "markdown",
   "id": "22fb710a",
   "metadata": {},
   "source": [
    "- İndirgenmiş son matrise bak, eğer atama yapılabiliyorsa sıfır maliyetli hücrelere atama yap.\n",
    "- Çalışan 1 için Görev 2 ve Görev 3 atanabilir. Bu yüzden şimdilik atama yapmayalım.\n",
    "- Çalışan 2, Görev 1’e atanmalıdır.\n",
    "- Çalışan 3, Görev 3’e atanmalıdır.\n",
    "- Bu atamalardan sonra Çalışan 1’in artık alternatifi yok, onu da Görev 2’ye atayalım:"
   ]
  },
  {
   "cell_type": "markdown",
   "id": "e0e465c8",
   "metadata": {},
   "source": [
    "|         |     Task1     |      Task2    |      Task3      |\n",
    "| :--:    | :-----------: | :-----------: | :-------------: |\n",
    "| Worker1 |       15      |      10( )    |         9       |\n",
    "| Worker2 |      9( )     |        15     |        10       |\n",
    "| Worker3 |       10      |        12     |       8( )      |"
   ]
  },
  {
   "cell_type": "markdown",
   "id": "0b84e236",
   "metadata": {},
   "source": [
    "- Son atama herkes bir iş yapar.\n",
    "- Her iş bir kişi tarafından yapılıyor.\n",
    "- Toplam maliyet 27 pb olur ve bu minimumdur."
   ]
  },
  {
   "cell_type": "code",
   "execution_count": 1,
   "id": "c9c2f8d8",
   "metadata": {},
   "outputs": [
    {
     "data": {
      "text/plain": [
       "27"
      ]
     },
     "execution_count": 1,
     "metadata": {},
     "output_type": "execute_result"
    }
   ],
   "source": [
    "10 + 9 + 8"
   ]
  },
  {
   "cell_type": "markdown",
   "id": "887d5c86",
   "metadata": {},
   "source": [
    "- Bazı atama problemlerinde indirgenmiş matrisi bulduğumuzda canımızı sıkan şeyler olabiliyor.Bu macar yönteminin en kolay hali."
   ]
  },
  {
   "cell_type": "code",
   "execution_count": 5,
   "id": "cdbce52e",
   "metadata": {},
   "outputs": [
    {
     "name": "stderr",
     "output_type": "stream",
     "text": [
      "\u001b[32m\u001b[1m    Updating\u001b[22m\u001b[39m registry at `C:\\Users\\pc\\.julia\\registries\\General.toml`\n",
      "\u001b[32m\u001b[1m   Resolving\u001b[22m\u001b[39m package versions...\n",
      "\u001b[32m\u001b[1m   Installed\u001b[22m\u001b[39m DiffRules ──────────── v1.15.1\n",
      "\u001b[32m\u001b[1m   Installed\u001b[22m\u001b[39m Bzip2_jll ──────────── v1.0.8+0\n",
      "\u001b[32m\u001b[1m   Installed\u001b[22m\u001b[39m CodecBzip2 ─────────── v0.7.2\n",
      "\u001b[32m\u001b[1m   Installed\u001b[22m\u001b[39m IrrationalConstants ── v0.2.2\n",
      "\u001b[32m\u001b[1m   Installed\u001b[22m\u001b[39m DiffResults ────────── v1.1.0\n",
      "\u001b[32m\u001b[1m   Installed\u001b[22m\u001b[39m BenchmarkTools ─────── v1.3.2\n",
      "\u001b[32m\u001b[1m   Installed\u001b[22m\u001b[39m MutableArithmetics ─── v1.3.0\n",
      "\u001b[32m\u001b[1m   Installed\u001b[22m\u001b[39m SpecialFunctions ───── v2.3.0\n",
      "\u001b[32m\u001b[1m   Installed\u001b[22m\u001b[39m StaticArraysCore ───── v1.4.0\n",
      "\u001b[32m\u001b[1m   Installed\u001b[22m\u001b[39m NaNMath ────────────── v1.0.2\n",
      "\u001b[32m\u001b[1m   Installed\u001b[22m\u001b[39m OrderedCollections ─── v1.6.0\n",
      "\u001b[32m\u001b[1m   Installed\u001b[22m\u001b[39m TranscodingStreams ─── v0.9.13\n",
      "\u001b[32m\u001b[1m   Installed\u001b[22m\u001b[39m SnoopPrecompile ────── v1.0.3\n",
      "\u001b[32m\u001b[1m   Installed\u001b[22m\u001b[39m ForwardDiff ────────── v0.10.35\n",
      "\u001b[32m\u001b[1m   Installed\u001b[22m\u001b[39m DataStructures ─────── v0.18.14\n",
      "\u001b[32m\u001b[1m   Installed\u001b[22m\u001b[39m JuMP ───────────────── v1.12.0\n",
      "\u001b[32m\u001b[1m   Installed\u001b[22m\u001b[39m CommonSubexpressions ─ v0.3.0\n",
      "\u001b[32m\u001b[1m   Installed\u001b[22m\u001b[39m LogExpFunctions ────── v0.3.24\n",
      "\u001b[32m\u001b[1m   Installed\u001b[22m\u001b[39m Compat ─────────────── v4.7.0\n",
      "\u001b[32m\u001b[1m   Installed\u001b[22m\u001b[39m MacroTools ─────────── v0.5.10\n",
      "\u001b[32m\u001b[1m   Installed\u001b[22m\u001b[39m OpenSpecFun_jll ────── v0.5.5+0\n",
      "\u001b[32m\u001b[1m   Installed\u001b[22m\u001b[39m CodecZlib ──────────── v0.7.1\n",
      "\u001b[32m\u001b[1m   Installed\u001b[22m\u001b[39m DocStringExtensions ── v0.9.3\n",
      "\u001b[32m\u001b[1m   Installed\u001b[22m\u001b[39m MathOptInterface ───── v1.18.0\n",
      "\u001b[32m\u001b[1m    Updating\u001b[22m\u001b[39m `C:\\Users\\pc\\.julia\\environments\\v1.9\\Project.toml`\n",
      "  \u001b[90m[4076af6c] \u001b[39m\u001b[92m+ JuMP v1.12.0\u001b[39m\n",
      "\u001b[32m\u001b[1m    Updating\u001b[22m\u001b[39m `C:\\Users\\pc\\.julia\\environments\\v1.9\\Manifest.toml`\n",
      "  \u001b[90m[6e4b80f9] \u001b[39m\u001b[92m+ BenchmarkTools v1.3.2\u001b[39m\n",
      "  \u001b[90m[523fee87] \u001b[39m\u001b[92m+ CodecBzip2 v0.7.2\u001b[39m\n",
      "  \u001b[90m[944b1d66] \u001b[39m\u001b[92m+ CodecZlib v0.7.1\u001b[39m\n",
      "  \u001b[90m[bbf7d656] \u001b[39m\u001b[92m+ CommonSubexpressions v0.3.0\u001b[39m\n",
      "  \u001b[90m[34da2185] \u001b[39m\u001b[92m+ Compat v4.7.0\u001b[39m\n",
      "  \u001b[90m[864edb3b] \u001b[39m\u001b[92m+ DataStructures v0.18.14\u001b[39m\n",
      "  \u001b[90m[163ba53b] \u001b[39m\u001b[92m+ DiffResults v1.1.0\u001b[39m\n",
      "  \u001b[90m[b552c78f] \u001b[39m\u001b[92m+ DiffRules v1.15.1\u001b[39m\n",
      "  \u001b[90m[ffbed154] \u001b[39m\u001b[92m+ DocStringExtensions v0.9.3\u001b[39m\n",
      "  \u001b[90m[f6369f11] \u001b[39m\u001b[92m+ ForwardDiff v0.10.35\u001b[39m\n",
      "  \u001b[90m[92d709cd] \u001b[39m\u001b[92m+ IrrationalConstants v0.2.2\u001b[39m\n",
      "  \u001b[90m[4076af6c] \u001b[39m\u001b[92m+ JuMP v1.12.0\u001b[39m\n",
      "  \u001b[90m[2ab3a3ac] \u001b[39m\u001b[92m+ LogExpFunctions v0.3.24\u001b[39m\n",
      "  \u001b[90m[1914dd2f] \u001b[39m\u001b[92m+ MacroTools v0.5.10\u001b[39m\n",
      "  \u001b[90m[b8f27783] \u001b[39m\u001b[92m+ MathOptInterface v1.18.0\u001b[39m\n",
      "  \u001b[90m[d8a4904e] \u001b[39m\u001b[92m+ MutableArithmetics v1.3.0\u001b[39m\n",
      "  \u001b[90m[77ba4419] \u001b[39m\u001b[92m+ NaNMath v1.0.2\u001b[39m\n",
      "  \u001b[90m[bac558e1] \u001b[39m\u001b[92m+ OrderedCollections v1.6.0\u001b[39m\n",
      "  \u001b[90m[66db9d55] \u001b[39m\u001b[92m+ SnoopPrecompile v1.0.3\u001b[39m\n",
      "  \u001b[90m[276daf66] \u001b[39m\u001b[92m+ SpecialFunctions v2.3.0\u001b[39m\n",
      "  \u001b[90m[1e83bf80] \u001b[39m\u001b[92m+ StaticArraysCore v1.4.0\u001b[39m\n",
      "  \u001b[90m[3bb67fe8] \u001b[39m\u001b[92m+ TranscodingStreams v0.9.13\u001b[39m\n",
      "  \u001b[90m[6e34b625] \u001b[39m\u001b[92m+ Bzip2_jll v1.0.8+0\u001b[39m\n",
      "  \u001b[90m[efe28fd5] \u001b[39m\u001b[92m+ OpenSpecFun_jll v0.5.5+0\u001b[39m\n",
      "  \u001b[90m[37e2e46d] \u001b[39m\u001b[92m+ LinearAlgebra\u001b[39m\n",
      "  \u001b[90m[9abbd945] \u001b[39m\u001b[92m+ Profile\u001b[39m\n",
      "  \u001b[90m[2f01184e] \u001b[39m\u001b[92m+ SparseArrays\u001b[39m\n",
      "  \u001b[90m[10745b16] \u001b[39m\u001b[92m+ Statistics v1.9.0\u001b[39m\n",
      "  \u001b[90m[e66e0078] \u001b[39m\u001b[92m+ CompilerSupportLibraries_jll v1.0.2+0\u001b[39m\n",
      "  \u001b[90m[4536629a] \u001b[39m\u001b[92m+ OpenBLAS_jll v0.3.21+4\u001b[39m\n",
      "  \u001b[90m[05823500] \u001b[39m\u001b[92m+ OpenLibm_jll v0.8.1+0\u001b[39m\n",
      "  \u001b[90m[bea87d4a] \u001b[39m\u001b[92m+ SuiteSparse_jll v5.10.1+6\u001b[39m\n",
      "  \u001b[90m[8e850b90] \u001b[39m\u001b[92m+ libblastrampoline_jll v5.8.0+0\u001b[39m\n",
      "\u001b[32m\u001b[1mPrecompiling\u001b[22m\u001b[39m project...\n",
      "\u001b[32m  ✓ \u001b[39m\u001b[90mCompat\u001b[39m\n",
      "\u001b[32m  ✓ \u001b[39m\u001b[90mOrderedCollections\u001b[39m\n",
      "\u001b[32m  ✓ \u001b[39m\u001b[90mDocStringExtensions\u001b[39m\n",
      "\u001b[32m  ✓ \u001b[39m\u001b[90mCompilerSupportLibraries_jll\u001b[39m\n",
      "\u001b[32m  ✓ \u001b[39m\u001b[90mStaticArraysCore\u001b[39m\n",
      "\u001b[32m  ✓ \u001b[39m\u001b[90mIrrationalConstants\u001b[39m\n",
      "\u001b[32m  ✓ \u001b[39m\u001b[90mTranscodingStreams\u001b[39m\n",
      "\u001b[32m  ✓ \u001b[39m\u001b[90mNaNMath\u001b[39m\n",
      "\u001b[32m  ✓ \u001b[39m\u001b[90mSnoopPrecompile\u001b[39m\n",
      "\u001b[32m  ✓ \u001b[39m\u001b[90mMacroTools\u001b[39m\n",
      "\u001b[32m  ✓ \u001b[39m\u001b[90mBzip2_jll\u001b[39m\n",
      "\u001b[32m  ✓ \u001b[39m\u001b[90mCompat → CompatLinearAlgebraExt\u001b[39m\n",
      "\u001b[32m  ✓ \u001b[39m\u001b[90mBenchmarkTools\u001b[39m\n",
      "\u001b[32m  ✓ \u001b[39m\u001b[90mDiffResults\u001b[39m\n",
      "\u001b[32m  ✓ \u001b[39m\u001b[90mOpenSpecFun_jll\u001b[39m\n",
      "\u001b[32m  ✓ \u001b[39m\u001b[90mCodecZlib\u001b[39m\n",
      "\u001b[32m  ✓ \u001b[39m\u001b[90mLogExpFunctions\u001b[39m\n",
      "\u001b[32m  ✓ \u001b[39m\u001b[90mCommonSubexpressions\u001b[39m\n",
      "\u001b[32m  ✓ \u001b[39m\u001b[90mCodecBzip2\u001b[39m\n",
      "\u001b[32m  ✓ \u001b[39m\u001b[90mMutableArithmetics\u001b[39m\n",
      "\u001b[32m  ✓ \u001b[39m\u001b[90mDataStructures\u001b[39m\n",
      "\u001b[32m  ✓ \u001b[39m\u001b[90mSpecialFunctions\u001b[39m\n",
      "\u001b[32m  ✓ \u001b[39m\u001b[90mDiffRules\u001b[39m\n",
      "\u001b[32m  ✓ \u001b[39m\u001b[90mForwardDiff\u001b[39m\n",
      "\u001b[32m  ✓ \u001b[39m\u001b[90mMathOptInterface\u001b[39m\n",
      "\u001b[32m  ✓ \u001b[39mJuMP\n",
      "  26 dependencies successfully precompiled in 249 seconds. 19 already precompiled.\n"
     ]
    }
   ],
   "source": [
    "import Pkg\n",
    "Pkg.add(\"JuMP\")"
   ]
  },
  {
   "cell_type": "code",
   "execution_count": 15,
   "id": "5da239fe",
   "metadata": {},
   "outputs": [
    {
     "name": "stderr",
     "output_type": "stream",
     "text": [
      "\u001b[32m\u001b[1m   Resolving\u001b[22m\u001b[39m package versions...\n",
      "\u001b[32m\u001b[1m   Installed\u001b[22m\u001b[39m HiGHS ───── v1.5.2\n",
      "\u001b[32m\u001b[1m   Installed\u001b[22m\u001b[39m HiGHS_jll ─ v1.5.3+0\n",
      "\u001b[32m\u001b[1m    Updating\u001b[22m\u001b[39m `C:\\Users\\pc\\.julia\\environments\\v1.9\\Project.toml`\n",
      "  \u001b[90m[87dc4568] \u001b[39m\u001b[92m+ HiGHS v1.5.2\u001b[39m\n",
      "\u001b[32m\u001b[1m    Updating\u001b[22m\u001b[39m `C:\\Users\\pc\\.julia\\environments\\v1.9\\Manifest.toml`\n",
      "  \u001b[90m[87dc4568] \u001b[39m\u001b[92m+ HiGHS v1.5.2\u001b[39m\n",
      "  \u001b[90m[8fd58aa0] \u001b[39m\u001b[92m+ HiGHS_jll v1.5.3+0\u001b[39m\n",
      "\u001b[32m\u001b[1mPrecompiling\u001b[22m\u001b[39m project...\n",
      "\u001b[32m  ✓ \u001b[39m\u001b[90mHiGHS_jll\u001b[39m\n",
      "\u001b[32m  ✓ \u001b[39mHiGHS\n",
      "  2 dependencies successfully precompiled in 21 seconds. 45 already precompiled.\n"
     ]
    }
   ],
   "source": [
    "import Pkg\n",
    "Pkg.add(\"HiGHS\")"
   ]
  },
  {
   "cell_type": "code",
   "execution_count": 16,
   "id": "2c4ebeb2",
   "metadata": {},
   "outputs": [],
   "source": [
    "using JuMP, HiGHS"
   ]
  },
  {
   "cell_type": "code",
   "execution_count": 29,
   "id": "3f725a14",
   "metadata": {},
   "outputs": [
    {
     "name": "stdout",
     "output_type": "stream",
     "text": [
      "Running HiGHS 1.5.3 [date: 1970-01-01, git hash: 45a127b78]\n",
      "Copyright (c) 2023 HiGHS under MIT licence terms\n",
      "Presolving model\n",
      "6 rows, 9 cols, 18 nonzeros\n",
      "6 rows, 9 cols, 18 nonzeros\n",
      "Objective function is integral with scale 1\n",
      "\n",
      "Solving MIP model with:\n",
      "   6 rows\n",
      "   9 cols (9 binary, 0 integer, 0 implied int., 0 continuous)\n",
      "   18 nonzeros\n",
      "\n",
      "        Nodes      |    B&B Tree     |            Objective Bounds              |  Dynamic Constraints |       Work      \n",
      "     Proc. InQueue |  Leaves   Expl. | BestBound       BestSol              Gap |   Cuts   InLp Confl. | LpIters     Time\n",
      "\n",
      "         0       0         0   0.00%   0               inf                  inf        0      0      0         0     0.0s\n",
      " T       0       0         0   0.00%   0               27               100.00%        0      0      0         5     0.0s\n",
      "\n",
      "Solving report\n",
      "  Status            Optimal\n",
      "  Primal bound      27\n",
      "  Dual bound        27\n",
      "  Gap               0% (tolerance: 0.01%)\n",
      "  Solution status   feasible\n",
      "                    27 (objective)\n",
      "                    0 (bound viol.)\n",
      "                    0 (int. viol.)\n",
      "                    0 (row viol.)\n",
      "  Timing            0.02 (total)\n",
      "                    0.01 (presolve)\n",
      "                    0.00 (postsolve)\n",
      "  Nodes             1\n",
      "  LP iterations     5 (total)\n",
      "                    0 (strong br.)\n",
      "                    0 (separation)\n",
      "                    0 (heuristics)\n"
     ]
    }
   ],
   "source": [
    "m = Model(HiGHS.Optimizer)\n",
    "cost = [15 10 9; 9 15 10; 10 12 8]\n",
    "@variable(m, x[1:3, 1:3], Bin)\n",
    "\n",
    "@objective(m, Min, sum(cost .* x))\n",
    "\n",
    "@constraint(m, sum(x[1, :]) == 1)\n",
    "@constraint(m, sum(x[2, :]) == 1)\n",
    "@constraint(m, sum(x[3, :]) == 1)\n",
    "\n",
    "@constraint(m, sum(x[:, 1]) == 1)\n",
    "@constraint(m, sum(x[:, 2]) == 1)\n",
    "@constraint(m, sum(x[:, 3]) == 1)\n",
    "\n",
    "optimize!(m)"
   ]
  },
  {
   "cell_type": "code",
   "execution_count": 18,
   "id": "ce69450b",
   "metadata": {},
   "outputs": [
    {
     "data": {
      "text/plain": [
       "27.0"
      ]
     },
     "execution_count": 18,
     "metadata": {},
     "output_type": "execute_result"
    }
   ],
   "source": [
    "objective_value(m)"
   ]
  },
  {
   "cell_type": "code",
   "execution_count": 19,
   "id": "15d08921",
   "metadata": {},
   "outputs": [
    {
     "data": {
      "text/plain": [
       "3×3 Matrix{Float64}:\n",
       " 0.0   1.0   0.0\n",
       " 1.0   0.0  -0.0\n",
       " 0.0  -0.0   1.0"
      ]
     },
     "execution_count": 19,
     "metadata": {},
     "output_type": "execute_result"
    }
   ],
   "source": [
    "value.(x)"
   ]
  },
  {
   "cell_type": "markdown",
   "id": "da8a4338",
   "metadata": {},
   "source": [
    "## 1.2 Örnek"
   ]
  },
  {
   "cell_type": "markdown",
   "id": "bb9b1619",
   "metadata": {},
   "source": [
    "|         |     Job1     |      Job2    |      Job3      |     Job4    |\n",
    "| :--:    | :----------: | :----------: | :------------: | :---------: |\n",
    "| Worker1 |        1     |        4     |        6       |       3     |\n",
    "| Worker2 |        9     |        7     |       10       |       9     |\n",
    "| Worker3 |        4     |        5     |       11       |       7     |\n",
    "| Worker3 |        8     |        7     |        8       |       5     |"
   ]
  },
  {
   "cell_type": "markdown",
   "id": "c0146a46",
   "metadata": {},
   "source": [
    "- Satır minimumları bulunsun ve indirgenmiş matrisi oluşturalım:\n",
    "- Tüm satır elemanları karşılık gelen satır minimumundan çıkartılsın"
   ]
  },
  {
   "cell_type": "markdown",
   "id": "32dca78b",
   "metadata": {},
   "source": [
    "|         |     Job1     |      Job2    |      Job3      |     Job4    |  Minimum  | \n",
    "| :--:    | :----------: | :----------: | :------------: | :---------: | :--:      |\n",
    "| Worker1 |        1     |        4     |        6       |       3     |      1    |\n",
    "| Worker2 |        9     |        7     |       10       |       9     |      7    |\n",
    "| Worker3 |        4     |        5     |       11       |       7     |      4    |\n",
    "| Worker3 |        8     |        7     |        8       |       5     |      5    |"
   ]
  },
  {
   "cell_type": "markdown",
   "id": "66a5a632",
   "metadata": {},
   "source": [
    "|         |     Job1     |      Job2    |      Job3      |     Job4    |\n",
    "| :--:    | :----------: | :----------: | :------------: | :---------: |\n",
    "| Worker1 |        0     |        3     |        5       |       2     |\n",
    "| Worker2 |        2     |        0     |        3       |       2     |\n",
    "| Worker3 |        0     |        1     |        7       |       3     |\n",
    "| Worker3 |        3     |        2     |        3       |       0     |"
   ]
  },
  {
   "cell_type": "markdown",
   "id": "d3e23461",
   "metadata": {},
   "source": [
    "- Sütun minimumları bulunsun ve yeni indirgenmiş matrisi oluşturalım.\n",
    "- Sütunlardaki tüm elemanlar karşılık gelen sütun minimumundan çıkartılacak"
   ]
  },
  {
   "cell_type": "markdown",
   "id": "274dd234",
   "metadata": {},
   "source": [
    "|         |     Job1     |      Job2    |      Job3      |     Job4    |\n",
    "| :--:    | :----------: | :----------: | :------------: | :---------: |\n",
    "| Worker1 |        0     |        3     |        5       |       2     |\n",
    "| Worker2 |        2     |        0     |        3       |       2     |\n",
    "| Worker3 |        0     |        1     |        7       |       3     |\n",
    "| Worker3 |        3     |        2     |        3       |       0     |\n",
    "| Minimum |        0     |        0     |        3       |       0     |"
   ]
  },
  {
   "cell_type": "markdown",
   "id": "6688e5b0",
   "metadata": {},
   "source": [
    "|         |     Job1     |      Job2    |      Job3      |     Job4    |\n",
    "| :--:    | :----------: | :----------: | :------------: | :---------: |\n",
    "| Worker1 |        0     |        3     |        2       |       2     |\n",
    "| Worker2 |        2     |        0     |        0       |       2     |\n",
    "| Worker3 |        0     |        1     |        4       |       3     |\n",
    "| Worker3 |        3     |        2     |        0       |       0     |"
   ]
  },
  {
   "cell_type": "markdown",
   "id": "743c38a7",
   "metadata": {},
   "source": [
    "- İki kez indirgenmiş matrisi elde ettik.\n",
    "- Sıfır maliyetli hücrelere atama yapmaya çalışacağız.\n",
    "- Personel 1 yalnızca iş 1’i yapabilir.\n",
    "- Personel 3 de yalnızca iş 1’i yapabilir.\n",
    "- O halde bu tablo atama yapmaya izin vermiyor.\n",
    "- Macar yönteminin yukarıdaki aşamaları bu problemi çözmeye yetmez.\n",
    "- Bu noktada algoritma yeni aşamalar ortaya sürer."
   ]
  },
  {
   "cell_type": "markdown",
   "id": "66235b14",
   "metadata": {},
   "source": [
    "## Atama yapılmama durumundaki aşamalar:\n",
    "- Son indirgenmiş matriste sıfırların üzerini kapayacak şekilde ve minimum sayıda çizgi çiz. \n",
    "- Üzeri çizilmemiş sayılar içinde en küçük olanını bul. \n",
    "- Bu en küçük sayıyı üzeri çizilmemiş tüm sayılardan çıkaracağız. \n",
    "- Bu en küçük sayısı kapatma çizgilerinin kesiştiği yerdeki elemanlarda toplayacağız. \n",
    "- Son tabloda atama mümkünse uygun atamalar gerçekleştirilir. \n",
    "- Eğer atama tekrar mümkün olmuyorsa bu aşamalar tekrar edilir."
   ]
  },
  {
   "cell_type": "markdown",
   "id": "a2c26b7b",
   "metadata": {},
   "source": [
    "|         |     Job1     |      Job2    |      Job3      |     Job4    |\n",
    "| :--:    | :----------: | :----------: | :------------: | :---------: |\n",
    "| Worker1 |     **0**    |        3     |        2       |       2     |\n",
    "| Worker2 |     **2**    |     **0**    |     **0**      |     **2**   |\n",
    "| Worker3 |     **0**    |        1     |        4       |       3     |\n",
    "| Worker3 |     **3**    |       **2**  |      **0**     |     **0**   |"
   ]
  },
  {
   "cell_type": "markdown",
   "id": "45918f33",
   "metadata": {},
   "source": [
    "- Sütun 1, Satır 2 ve Satır 4 koyu yazılarak kapatılmış oldu. (3 çizgi yeterli oldu, 2 çizgi ile\n",
    "mümkün değil.)\n",
    "- Üzeri çizilmemiş elemanlar 3, 2, 2, 1, 4, 3\n",
    "- Bu sayıların en küçüğü 1.\n",
    "- Üzeri çizilmemiş tüm sayılardan 1’i çıkaralım:\n",
    "- Çizgilerin kesişim noktalarına bu sayıyı ekleyelim:"
   ]
  },
  {
   "cell_type": "markdown",
   "id": "81e9aa4e",
   "metadata": {},
   "source": [
    "|         |     Job1     |      Job2    |      Job3      |     Job4    |\n",
    "| :--:    | :----------: | :----------: | :------------: | :---------: |\n",
    "| Worker1 |     **0**    |        2     |        1       |       1     |\n",
    "| Worker2 |     **3**    |     **0**    |     **0**      |     **2**   |\n",
    "| Worker3 |     **0**    |        0     |        3       |       2     |\n",
    "| Worker3 |     **4**    |       **2**  |      **0**     |     **0**   |"
   ]
  },
  {
   "cell_type": "markdown",
   "id": "170e5185",
   "metadata": {},
   "source": [
    "-Elimizdeki son tabloda atama mümkün mü? Bakalım:\n",
    "- Personel 1, İş 1’e atansın.\n",
    "- İş 1 atandığı için, Personel 3 de İş 2’ye atansın.\n",
    "- İş 2 atandığı için, Personel 2 de İş 3’e atansın.\n",
    "- İş 3 önceden atandığı için Personel 4 de İş 4’e atansın"
   ]
  },
  {
   "cell_type": "markdown",
   "id": "d1c76a7d",
   "metadata": {},
   "source": [
    "|         |     Job1     |      Job2    |      Job3      |     Job4    |\n",
    "| :--:    | :----------: | :----------: | :------------: | :---------: |\n",
    "| Worker1 |      1( )    |        4     |        6       |       3     |\n",
    "| Worker2 |        9     |        7     |     10( )      |       9     |\n",
    "| Worker3 |        4     |      5( )    |       11       |       7     |\n",
    "| Worker3 |        8     |        7     |        8       |     5( )    |"
   ]
  },
  {
   "cell_type": "code",
   "execution_count": 24,
   "id": "aa21c83b",
   "metadata": {},
   "outputs": [
    {
     "data": {
      "text/plain": [
       "21"
      ]
     },
     "execution_count": 24,
     "metadata": {},
     "output_type": "execute_result"
    }
   ],
   "source": [
    "1 + 10 + 5 + 5"
   ]
  },
  {
   "cell_type": "code",
   "execution_count": 25,
   "id": "3e744be4",
   "metadata": {},
   "outputs": [],
   "source": [
    "cost = [1 4 6 3; 9 7 10 9; 4 5 11 7; 8 7 8 5]\n",
    "\n",
    "m = Model(HiGHS.Optimizer)\n",
    "\n",
    "@variable(m, x[1:4, 1:4], Bin)\n",
    "\n",
    "@objective(m, Min, sum(cost .* x))\n",
    "\n",
    "for i in 1:4\n",
    "    @constraint(m, sum(x[i,:]) == 1)\n",
    "end\n",
    "\n",
    "for j in 1:4\n",
    "    @constraint(m, sum(x[:,j]) == 1)\n",
    "end"
   ]
  },
  {
   "cell_type": "code",
   "execution_count": 26,
   "id": "6a7a9e5c",
   "metadata": {},
   "outputs": [
    {
     "name": "stdout",
     "output_type": "stream",
     "text": [
      "Running HiGHS 1.5.3 [date: 1970-01-01, git hash: 45a127b78]\n",
      "Copyright (c) 2023 HiGHS under MIT licence terms\n",
      "Presolving model\n",
      "8 rows, 16 cols, 32 nonzeros\n",
      "8 rows, 16 cols, 32 nonzeros\n",
      "Objective function is integral with scale 1\n",
      "\n",
      "Solving MIP model with:\n",
      "   8 rows\n",
      "   16 cols (16 binary, 0 integer, 0 implied int., 0 continuous)\n",
      "   32 nonzeros\n",
      "\n",
      "        Nodes      |    B&B Tree     |            Objective Bounds              |  Dynamic Constraints |       Work      \n",
      "     Proc. InQueue |  Leaves   Expl. | BestBound       BestSol              Gap |   Cuts   InLp Confl. | LpIters     Time\n",
      "\n",
      "         0       0         0   0.00%   0               inf                  inf        0      0      0         0     0.0s\n",
      " T       0       0         0   0.00%   0               21               100.00%        0      0      0         6     0.0s\n",
      "\n",
      "Solving report\n",
      "  Status            Optimal\n",
      "  Primal bound      21\n",
      "  Dual bound        21\n",
      "  Gap               0% (tolerance: 0.01%)\n",
      "  Solution status   feasible\n",
      "                    21 (objective)\n",
      "                    0 (bound viol.)\n",
      "                    0 (int. viol.)\n",
      "                    0 (row viol.)\n",
      "  Timing            0.00 (total)\n",
      "                    0.00 (presolve)\n",
      "                    0.00 (postsolve)\n",
      "  Nodes             1\n",
      "  LP iterations     6 (total)\n",
      "                    0 (strong br.)\n",
      "                    0 (separation)\n",
      "                    0 (heuristics)\n"
     ]
    }
   ],
   "source": [
    "optimize!(m);"
   ]
  },
  {
   "cell_type": "code",
   "execution_count": 27,
   "id": "43ba43bb",
   "metadata": {},
   "outputs": [
    {
     "data": {
      "text/plain": [
       "21.0"
      ]
     },
     "execution_count": 27,
     "metadata": {},
     "output_type": "execute_result"
    }
   ],
   "source": [
    "objective_value(m)"
   ]
  },
  {
   "cell_type": "code",
   "execution_count": 28,
   "id": "2064b8c8",
   "metadata": {},
   "outputs": [
    {
     "data": {
      "text/plain": [
       "4×4 Matrix{Float64}:\n",
       "  1.0   0.0  0.0  0.0\n",
       "  0.0  -0.0  1.0  0.0\n",
       " -0.0   1.0  0.0  0.0\n",
       "  0.0   0.0  0.0  1.0"
      ]
     },
     "execution_count": 28,
     "metadata": {},
     "output_type": "execute_result"
    }
   ],
   "source": [
    "value.(x)"
   ]
  },
  {
   "cell_type": "code",
   "execution_count": null,
   "id": "21a37077",
   "metadata": {},
   "outputs": [],
   "source": []
  },
  {
   "cell_type": "code",
   "execution_count": null,
   "id": "27952f7b",
   "metadata": {},
   "outputs": [],
   "source": []
  }
 ],
 "metadata": {
  "kernelspec": {
   "display_name": "Julia 1.9.1",
   "language": "julia",
   "name": "julia-1.9"
  },
  "language_info": {
   "file_extension": ".jl",
   "mimetype": "application/julia",
   "name": "julia",
   "version": "1.9.1"
  }
 },
 "nbformat": 4,
 "nbformat_minor": 5
}
