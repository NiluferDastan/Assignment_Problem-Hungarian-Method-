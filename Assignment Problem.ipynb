{
 "cells": [
  {
   "cell_type": "markdown",
   "id": "189ed0f3",
   "metadata": {},
   "source": [
    "# Assignment Problem (Atama Problemi)"
   ]
  },
  {
   "cell_type": "markdown",
   "id": "075a6ced",
   "metadata": {},
   "source": [
    "- Atama problemi ulaştırma modelinin özel bir halidir\n",
    "- Ulaştırma probleminde arz merkezlerinin ve talep merkezlerinin farklı miktarlarda arz ve\n",
    "talebi olabilir"
   ]
  },
  {
   "cell_type": "markdown",
   "id": "6d18f070",
   "metadata": {},
   "source": [
    "|       |    M1   |   M2   |   Arz  |\n",
    "| :---: | :-----: | :----: | :----: |\n",
    "|   F1  |    10   |   20   |   100  |\n",
    "|   F2  |    15   |   25   |   100  |\n",
    "| Talep |    50   |   50   |        |"
   ]
  },
  {
   "cell_type": "markdown",
   "id": "1c47a77f",
   "metadata": {},
   "source": [
    "- Atama Probleminde ise $n$ tane çalışanın (worker) $n$ tane göreve (Task) atanmasıyla ilgiliyiz:"
   ]
  },
  {
   "cell_type": "markdown",
   "id": "bc622c35",
   "metadata": {},
   "source": [
    "|         |     Task1     |      Task2    |      Task3      |\n",
    "| :--:    | :-----------: | :-----------: | :-------------: |\n",
    "| Worker1 |       10      |        12     |        13       |\n",
    "| Worker2 |       11      |        11     |        14       |\n",
    "| Worker3 |        9      |         8     |        15       |"
   ]
  },
  {
   "cell_type": "markdown",
   "id": "8aba0cee",
   "metadata": {},
   "source": [
    "- Ulaştırma tablosundan farklı olarak tüm arz edenlerin (çalışanların) arz ettiği emek miktarı 1\n",
    "- Ulaştırma tablosundan farklı olarak tüm talep edenlerin (görevlerin) talep ettiği miktarı 1\n",
    "- Demek ki atama tablosu arz ve taleplerin 1 olduğu özel bir ulaştırma tablosudur."
   ]
  },
  {
   "cell_type": "markdown",
   "id": "8eaf0bbe",
   "metadata": {},
   "source": [
    "## 1.1 Macar Yöntemi (The Hungarian Method)"
   ]
  },
  {
   "cell_type": "markdown",
   "id": "9f02cd4f",
   "metadata": {},
   "source": [
    "### 1.1.1 Örnek"
   ]
  },
  {
   "cell_type": "markdown",
   "id": "fb81444f",
   "metadata": {},
   "source": [
    "|         |     Task1     |      Task2    |      Task3      |\n",
    "| :--:    | :-----------: | :-----------: | :-------------: |\n",
    "| Worker1 |       15      |        10     |         9       |\n",
    "| Worker2 |        9      |        15     |        10       |\n",
    "| Worker3 |       10      |        12     |         8       |"
   ]
  },
  {
   "cell_type": "markdown",
   "id": "5d20830f",
   "metadata": {},
   "source": [
    "- Çalışan 1, 3. işi 9 Pb için yapıyor.\n",
    "- Kim hangi işi yapsın ki,\n",
    "- herkes yalnızca bir iş yapsın\n",
    "- her iş yalnızca bir kişi tarafından yapılsın\n",
    "- ve **toplam maliyet en küçük** olsun."
   ]
  },
  {
   "cell_type": "markdown",
   "id": "dff95d5e",
   "metadata": {},
   "source": [
    "|         |     Task1     |      Task2    |      Task3      |\n",
    "| :--:    | :-----------: | :-----------: | :-------------: |\n",
    "| Worker1 |   15(x11)     |    10(x12)    |     9(x13)      |\n",
    "| Worker2 |        9      |        15     |        10       |\n",
    "| Worker3 |       10      |        12     |     8(x33)      |"
   ]
  },
  {
   "cell_type": "markdown",
   "id": "3a7dc980",
   "metadata": {},
   "source": [
    "- $x_{ij}$ eğer $i$. çalışan $j$. işi yaparsa 1 değerini alır, aksi takdirde sıfır değerini alır"
   ]
  },
  {
   "cell_type": "markdown",
   "id": "486d3615",
   "metadata": {},
   "source": [
    "$$\n",
    "\\begin{aligned}\n",
    "\\min z = & 15x_{11} + 10x_{12} + 9x_{13} + 9x_{21} + 15x_{22} + 10x_{23} + 10x_{31} + 12x_{32} + 8x_{33} \\\\\n",
    "\\text{Kısıtlar:} & \\\\\n",
    "& x_{11} + x_{12} + x_{13} = 1 \\\\\n",
    "& x_{21} + x_{22} + x_{23} = 1 \\\\\n",
    "& x_{31} + x_{32} + x_{33} = 1 \\\\\n",
    "& x_{11} + x_{21} + x_{31} = 1 \\\\\n",
    "& x_{12} + x_{22} + x_{32} = 1 \\\\\n",
    "& x_{13} + x_{23} + x_{33} = 1 \\\\\n",
    "& x_{ij} \\in \\{0,1\\} \\\\\n",
    "& i = 1,2,3 \\\\\n",
    "& j = 1,2,3\n",
    "\\end{aligned}\n",
    "$$"
   ]
  },
  {
   "cell_type": "markdown",
   "id": "b7f11cda",
   "metadata": {},
   "source": [
    "- Macar Yöntemi:\n",
    "- Aşama 1: Orijinal tablodaki tüm satırların minimum maliyetleri bul ve satırlardaki tüm\n",
    "elemanları bu minimumdan çıkar:"
   ]
  },
  {
   "cell_type": "markdown",
   "id": "90fa3ea2",
   "metadata": {},
   "source": [
    "|         |     Task1     |      Task2    |      Task3      |\n",
    "| :--:    | :-----------: | :-----------: | :-------------: |\n",
    "| Worker1 |       15      |        10     |         9       |\n",
    "| Worker2 |        9      |        15     |        10       |\n",
    "| Worker3 |       10      |        12     |         8       |"
   ]
  },
  {
   "cell_type": "markdown",
   "id": "8ca9d657",
   "metadata": {},
   "source": [
    "|         |     Task1     |      Task2    |      Task3      |  Minimum  |\n",
    "| :--:    | :-----------: | :-----------: | :-------------: | :-------: |\n",
    "| Worker1 |       15      |        10     |         9       |     9     |\n",
    "| Worker2 |        9      |        15     |        10       |     9     |\n",
    "| Worker3 |       10      |        12     |         8       |     8     |"
   ]
  },
  {
   "cell_type": "markdown",
   "id": "e9b85249",
   "metadata": {},
   "source": [
    "- Tüm satır elemanları karşılık gelen minimum değerden çıkartılırsa indirgenmiş matris elde\n",
    "edilir:\n"
   ]
  },
  {
   "cell_type": "markdown",
   "id": "325f3ce9",
   "metadata": {},
   "source": [
    "|         |     Task1     |      Task2   |      Task3      |\n",
    "| :--:    | :-----------: | :----------: | :-------------: |\n",
    "| Worker1 |        6      |        1     |         0       |\n",
    "| Worker2 |        0      |        6     |         1       |\n",
    "| Worker3 |        2      |        4     |         0       |"
   ]
  },
  {
   "cell_type": "markdown",
   "id": "addc8095",
   "metadata": {},
   "source": [
    "- Bu kez de, eldeki indirgenmiş matrisin sütunlarına ait minimumları bul, ve herbir sütun\n",
    "elemanını karşılık gelen sütun minimumundan çıkar."
   ]
  },
  {
   "cell_type": "markdown",
   "id": "78456c35",
   "metadata": {},
   "source": [
    "|         |     Task1     |      Task2   |      Task3      |\n",
    "| :--:    | :-----------: | :----------: | :-------------: |\n",
    "| Worker1 |        6      |        1     |         0       |\n",
    "| Worker2 |        0      |        6     |         1       |\n",
    "| Worker3 |        2      |        4     |         0       |\n",
    "| Minimum |        0      |        1     |         0       | "
   ]
  },
  {
   "cell_type": "markdown",
   "id": "909c9894",
   "metadata": {},
   "source": [
    "|         |     Task1     |      Task2   |      Task3      |\n",
    "| :--:    | :-----------: | :----------: | :-------------: |\n",
    "| Worker1 |        6      |        0     |         0       |\n",
    "| Worker2 |        0      |        5     |         1       |\n",
    "| Worker3 |        2      |        3     |         0       |"
   ]
  },
  {
   "cell_type": "markdown",
   "id": "51e392fa",
   "metadata": {},
   "source": [
    "- İndirgenmiş son matrise bak, eğer atama yapılabiliyorsa sıfır maliyetli hücrelere atama yap.\n",
    "- Çalışan 1 için Görev 2 ve Görev 3 atanabilir. Bu yüzden şimdilik atama yapmayalım.\n",
    "- Çalışan 2, Görev 1’e atanmalıdır.\n",
    "- Çalışan 3, Görev 3’e atanmalıdır.\n",
    "- Bu atamalardan sonra Çalışan 1’in artık alternatifi yok, onu da Görev 2’ye atayalım:"
   ]
  },
  {
   "cell_type": "markdown",
   "id": "a63393c4",
   "metadata": {},
   "source": [
    "|         |     Task1     |      Task2    |      Task3      |\n",
    "| :--:    | :-----------: | :-----------: | :-------------: |\n",
    "| Worker1 |       15      |      10( )    |         9       |\n",
    "| Worker2 |      9( )     |        15     |        10       |\n",
    "| Worker3 |       10      |        12     |       8( )      |"
   ]
  },
  {
   "cell_type": "markdown",
   "id": "101477b0",
   "metadata": {},
   "source": [
    "- Son atama herkes bir iş yapar.\n",
    "- Her iş bir kişi tarafından yapılıyor.\n",
    "- Toplam maliyet 27 pb olur ve bu minimumdur."
   ]
  },
  {
   "cell_type": "code",
   "execution_count": 1,
   "id": "c2b74f97",
   "metadata": {},
   "outputs": [
    {
     "data": {
      "text/html": [
       "27"
      ],
      "text/latex": [
       "27"
      ],
      "text/markdown": [
       "27"
      ],
      "text/plain": [
       "[1] 27"
      ]
     },
     "metadata": {},
     "output_type": "display_data"
    }
   ],
   "source": [
    "10 + 9 + 8"
   ]
  },
  {
   "cell_type": "markdown",
   "id": "66464465",
   "metadata": {},
   "source": [
    "- Bazı atama problemlerinde indirgenmiş matrisi bulduğumuzda canımızı sıkan şeyler olabiliyor.Bu macar yönteminin en kolay hali."
   ]
  }
 ],
 "metadata": {
  "kernelspec": {
   "display_name": "R",
   "language": "R",
   "name": "ir"
  },
  "language_info": {
   "codemirror_mode": "r",
   "file_extension": ".r",
   "mimetype": "text/x-r-source",
   "name": "R",
   "pygments_lexer": "r",
   "version": "3.6.1"
  }
 },
 "nbformat": 4,
 "nbformat_minor": 5
}
